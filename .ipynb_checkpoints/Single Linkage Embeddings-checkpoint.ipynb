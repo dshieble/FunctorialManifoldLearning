{
 "cells": [
  {
   "cell_type": "code",
   "execution_count": null,
   "metadata": {},
   "outputs": [],
   "source": [
    "%matplotlib inline\n",
    "%load_ext autoreload\n",
    "%autoreload 2\n",
    "\n",
    "import matplotlib.pyplot as plt\n",
    "import seaborn as sns\n",
    "sns.set(style='darkgrid')\n",
    "\n",
    "from tqdm import tqdm\n",
    "import random\n",
    "import numpy as np\n",
    "import pandas as pd\n",
    "import seaborn as sns\n",
    "import time\n",
    "from collections import defaultdict\n",
    "from scipy.spatial.distance import squareform, pdist, cdist\n",
    "from sklearn.decomposition import PCA\n",
    "\n",
    "import numpy as np\n",
    "from numba import njit, jit\n",
    "from numba import types\n",
    "from numba.typed import Dict\n",
    "from scipy.cluster.hierarchy import linkage\n",
    "from matplotlib.colors import BASE_COLORS\n",
    "from sklearn.neighbors import NearestNeighbors\n",
    "from sequence import (\n",
    "    generate_dna_sequences,\n",
    "    sequence_distance,\n",
    "    evaluate_embeddings\n",
    ")\n",
    "from linkage_based_embeddings import (\n",
    "    build_single_linkage_simplex_strength_matrix,\n",
    "    single_linkage_mds_from_condensed,\n",
    "    maximal_linkage_mds_from_condensed\n",
    ")\n"
   ]
  },
  {
   "cell_type": "code",
   "execution_count": null,
   "metadata": {
    "scrolled": true
   },
   "outputs": [],
   "source": [
    "all_results = {}\n",
    "for n_components in [2, 5]:\n",
    "    for num_starts in [100, 200]:\n",
    "        for num_mutations in [10, 20]: \n",
    "            start = time.time()\n",
    "            base_sequence_ids, sequences = generate_dna_sequences(\n",
    "                num_mutations=num_mutations,\n",
    "                num_starts=num_starts)\n",
    "            condensed_raw_distance_matrix = pdist(sequences, metric=sequence_distance)\n",
    "\n",
    "            results = {}\n",
    "            results[\"base_sequence_ids\"] = base_sequence_ids\n",
    "            results[\"n_components\"] = n_components\n",
    "            results[\"num_starts\"] = num_starts\n",
    "            results[\"num_mutations\"] = num_mutations\n",
    "\n",
    "            results[\"maximal_linkage_mds_embeddings\"] = maximal_linkage_mds_from_condensed(\n",
    "                condensed_raw_distance_matrix, n_components=n_components)\n",
    "            results[\"maximal_linkage_mds_from_condensed\"] = evaluate_embeddings(\n",
    "                embedding_sequence=results[\"maximal_linkage_mds_embeddings\"], num_mutations=num_mutations)\n",
    "\n",
    "            results[\"single_linkage_mds_embeddings\"] = single_linkage_mds_from_condensed(\n",
    "                condensed_raw_distance_matrix, n_components=n_components)\n",
    "            results[\"single_linkage_mds_from_condensed\"] = evaluate_embeddings(\n",
    "                embedding_sequence=results[\"single_linkage_mds_embeddings\"], num_mutations=num_mutations)\n",
    "            all_results[(n_components, num_starts, num_mutations)] = results\n",
    "            \n",
    "            print(\"============\")\n",
    "            for k, v in results.items():\n",
    "                if \"embeddings\" not in k and \"base_sequence_ids\" not in k:\n",
    "                    print(k, v)\n",
    "            print(time.time() - start)\n"
   ]
  },
  {
   "cell_type": "code",
   "execution_count": null,
   "metadata": {
    "scrolled": false
   },
   "outputs": [],
   "source": [
    "\n",
    "def plot_reduced_embeddings(base_sequence_ids, reduced_embeddings):    \n",
    "    entity_id_to_color = {unique_entity_id: np.random.random(3) for unique_entity_id in set(base_sequence_ids)}\n",
    "    plt.scatter(\n",
    "        x=reduced_embeddings[:,0],\n",
    "        y=reduced_embeddings[:,1],\n",
    "        c=[entity_id_to_color[i] for i in base_sequence_ids]\n",
    "    )\n",
    "    mins = np.min(reduced_embeddings, axis=0)\n",
    "    maxs = np.max(reduced_embeddings, axis=0)\n",
    "    plt.xlim((mins[0] - abs(mins[0]*0.5), maxs[0] + abs(maxs[0]*0.5)))\n",
    "    plt.ylim((mins[1] - abs(mins[1]*0.5), maxs[1] + abs(maxs[1]*0.5)))\n",
    "\n",
    "    \n",
    "    \n",
    "result = all_results[(2,100,10)]\n",
    "\n",
    "plt.figure(figsize=(15, 8))\n",
    "plt.subplot(1,2,1)\n",
    "plt.title(\"Metric Multidimensional Scaling\", fontsize=16)\n",
    "plot_reduced_embeddings(result[\"base_sequence_ids\"], result['maximal_linkage_mds_embeddings'])\n",
    "plt.xlabel(\"X Component of 2-Dimensional Embedding\", fontsize=16)\n",
    "plt.ylabel(\"Y Component of 2-Dimensional Embedding\", fontsize=16)\n",
    "\n",
    "\n",
    "plt.subplot(1,2,2)\n",
    "plt.title(\"Single Linkage Scaling\", fontsize=16)\n",
    "plot_reduced_embeddings(result[\"base_sequence_ids\"], result['single_linkage_mds_embeddings'])\n",
    "plt.xlabel(\"X Component of 2-Dimensional Embedding\", fontsize=16)\n",
    "plt.ylabel(\"Y Component of 2-Dimensional Embedding\", fontsize=16)\n",
    "\n"
   ]
  },
  {
   "cell_type": "code",
   "execution_count": null,
   "metadata": {},
   "outputs": [],
   "source": []
  },
  {
   "cell_type": "code",
   "execution_count": null,
   "metadata": {},
   "outputs": [],
   "source": []
  }
 ],
 "metadata": {
  "kernelspec": {
   "display_name": "Python 3",
   "language": "python",
   "name": "python3"
  },
  "language_info": {
   "codemirror_mode": {
    "name": "ipython",
    "version": 3
   },
   "file_extension": ".py",
   "mimetype": "text/x-python",
   "name": "python",
   "nbconvert_exporter": "python",
   "pygments_lexer": "ipython3",
   "version": "3.6.6"
  },
  "toc": {
   "base_numbering": 1,
   "nav_menu": {},
   "number_sections": false,
   "sideBar": false,
   "skip_h1_title": false,
   "title_cell": "Table of Contents",
   "title_sidebar": "Contents",
   "toc_cell": false,
   "toc_position": {},
   "toc_section_display": false,
   "toc_window_display": false
  }
 },
 "nbformat": 4,
 "nbformat_minor": 4
}
