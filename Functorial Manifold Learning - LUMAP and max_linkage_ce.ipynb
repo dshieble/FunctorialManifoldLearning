{
 "cells": [
  {
   "cell_type": "markdown",
   "metadata": {},
   "source": [
    "Manifold Learning:\n",
    "https://www.overleaf.com/project/5eac0a8fc087300001aa3218\n",
    "\n",
    "Available Gensim Embeddings https://github.com/RaRe-Technologies/gensim-data#datasets"
   ]
  },
  {
   "cell_type": "code",
   "execution_count": 1,
   "metadata": {},
   "outputs": [
    {
     "name": "stderr",
     "output_type": "stream",
     "text": [
      "unable to import 'smart_open.gcs', disabling that module\n"
     ]
    }
   ],
   "source": [
    "%matplotlib inline\n",
    "%load_ext autoreload\n",
    "%autoreload 2\n",
    "\n",
    "import matplotlib.pyplot as plt\n",
    "import seaborn as sns\n",
    "sns.set(style='darkgrid')\n",
    "\n",
    "\n",
    "from gensim.models.word2vec import Word2Vec\n",
    "import gensim.downloader as api\n",
    "from tqdm import tqdm\n",
    "import annoy\n",
    "from annoy import AnnoyIndex\n",
    "import random\n",
    "import numpy as np\n",
    "import pandas as pd\n",
    "import seaborn as sns\n",
    "import time\n",
    "from sklearn.cluster import KMeans\n",
    "from collections import defaultdict\n",
    "from sklearn.manifold import spectral_embedding, MDS, SpectralEmbedding\n",
    "from scipy.spatial.distance import squareform, pdist, cdist\n",
    "from sklearn.decomposition import PCA\n",
    "from umap import UMAP\n",
    "\n",
    "import numpy as np\n",
    "from numba import njit, jit\n",
    "from numba import types\n",
    "from numba.typed import Dict\n",
    "from scipy.cluster.hierarchy import linkage\n",
    "from matplotlib.colors import BASE_COLORS\n",
    "from helpers import (\n",
    "    mds, write_embedding_to_text_file, write_embedding_to_two_text_files, is_numeric, fit_laplacian_eigenmaps\n",
    ")\n",
    "import lumap\n",
    "\n",
    "sns.reset_defaults()\n",
    "sns.set_context(context='talk',font_scale=0.7)\n",
    "\n",
    "%matplotlib inline\n",
    "\n"
   ]
  },
  {
   "cell_type": "code",
   "execution_count": null,
   "metadata": {},
   "outputs": [],
   "source": []
  },
  {
   "cell_type": "code",
   "execution_count": 2,
   "metadata": {},
   "outputs": [],
   "source": [
    "from word_embedding_helpers import plot_reduced_embeddings, get_data\n",
    "entity_ids, raw_embeddings, metric = get_data(num_embeddings=50000)\n"
   ]
  },
  {
   "cell_type": "code",
   "execution_count": 4,
   "metadata": {
    "scrolled": true
   },
   "outputs": [
    {
     "name": "stderr",
     "output_type": "stream",
     "text": [
      "/usr/local/lib/python3.7/site-packages/numba/np/ufunc/parallel.py:355: NumbaWarning: The TBB threading layer requires TBB version 2019.5 or later i.e., TBB_INTERFACE_VERSION >= 11005. Found TBB_INTERFACE_VERSION = 11000. The TBB threading layer is disabled.\n",
      "  warnings.warn(problem)\n"
     ]
    },
    {
     "name": "stdout",
     "output_type": "stream",
     "text": [
      "lumap fit in 53.18990898132324 seconds\n",
      "Counter({'b': 19501, 'g': 261, 'r': 238})\n"
     ]
    },
    {
     "data": {
      "image/png": "[encoded data removed]",
      "text/plain": [
       "<Figure size 720x720 with 1 Axes>"
      ]
     },
     "metadata": {
      "needs_background": "light"
     },
     "output_type": "display_data"
    }
   ],
   "source": [
    "# Fit Laplacian UMAP\n",
    "start = time.time()\n",
    "lumap_embeddings = lumap.fit_lumap(X=raw_embeddings, n_neighbors=20, metric=metric, n_components=2)\n",
    "print(\"lumap fit in {} seconds\".format(time.time() - start))\n",
    "plot_reduced_embeddings(entity_ids, lumap_embeddings, make_figure=True)\n",
    "# mins = np.min(lumap_embeddings, axis=0)\n",
    "# maxs = np.max(lumap_embeddings, axis=0)\n",
    "# plt.xlim((-.25, .25))\n",
    "# plt.ylim((-.1, .1))\n",
    "\n",
    "write_embedding_to_two_text_files(\n",
    "    entity_ids=entity_ids,\n",
    "    embeddings=lumap_embeddings,\n",
    "    entity_fname=\"/Users/dshiebler/Downloads/lumap_entities\",\n",
    "    embedding_fname=\"/Users/dshiebler/Downloads/lumap_embeddings\")\n",
    "\n"
   ]
  },
  {
   "cell_type": "code",
   "execution_count": 70,
   "metadata": {},
   "outputs": [
    {
     "name": "stdout",
     "output_type": "stream",
     "text": [
      "building graph\n",
      "Computing adjacency_matrix with 15 neighbors\n",
      "(20000, 20000)\n",
      "fitting simplicial_set_embedding\n"
     ]
    },
    {
     "name": "stderr",
     "output_type": "stream",
     "text": [
      "\n",
      "KeyboardInterrupt\n",
      "\n"
     ]
    }
   ],
   "source": [
    "start = time.time()\n",
    "mlce_embeddings = lumap.fit_mlce(X=raw_embeddings, n_neighbors=15, metric=metric, n_components=2)\n",
    "print(\"lumap fit in {} seconds\".format(time.time() - start))\n",
    "plot_reduced_embeddings(entity_ids, mlce_embeddings, make_figure=True)"
   ]
  },
  {
   "cell_type": "code",
   "execution_count": null,
   "metadata": {
    "scrolled": false
   },
   "outputs": [
    {
     "name": "stdout",
     "output_type": "stream",
     "text": [
      "fitting umap\n",
      "umap fit in 10.968751192092896 seconds\n",
      "fitting pca\n",
      "PCA fit in 0.03276681900024414 seconds\n",
      "fitting laplacian eigenmaps\n"
     ]
    }
   ],
   "source": [
    "start = time.time()\n",
    "print(\"fitting umap\")\n",
    "umap_embeddings = UMAP(n_components=2).fit_transform(raw_embeddings)\n",
    "print(\"umap fit in {} seconds\".format(time.time() - start))\n",
    "\n",
    "start = time.time()\n",
    "print(\"fitting pca\")\n",
    "pca_embeddings = PCA(n_components=2).fit_transform(raw_embeddings)\n",
    "print(\"PCA fit in {} seconds\".format(time.time() - start))\n",
    "\n",
    "start = time.time()\n",
    "print(\"fitting laplacian eigenmaps\")\n",
    "le_embeddings = fit_laplacian_eigenmaps(raw_embeddings, n_components=2)\n",
    "print(\"LE fit in {} seconds\".format(time.time() - start))\n",
    "\n",
    "%matplotlib inline\n",
    "\n",
    "plt.figure(figsize=(20,10))\n",
    "plt.subplot(1,3,1)\n",
    "plt.title(\"UMAP\")\n",
    "plot_reduced_embeddings(entity_ids, umap_embeddings, make_figure=False)\n",
    "\n",
    "plt.subplot(1,3,2)\n",
    "plt.title(\"PCA\")\n",
    "plot_reduced_embeddings(entity_ids, pca_embeddings, make_figure=False)\n",
    "\n",
    "plt.subplot(1,3,3)\n",
    "plt.title(\"Laplacian Eigenmaps\")\n",
    "plot_reduced_embeddings(entity_ids, le_embeddings, make_figure=False)"
   ]
  },
  {
   "cell_type": "code",
   "execution_count": null,
   "metadata": {},
   "outputs": [],
   "source": []
  }
 ],
 "metadata": {
  "kernelspec": {
   "display_name": "Python 3",
   "language": "python",
   "name": "python3"
  },
  "language_info": {
   "codemirror_mode": {
    "name": "ipython",
    "version": 3
   },
   "file_extension": ".py",
   "mimetype": "text/x-python",
   "name": "python",
   "nbconvert_exporter": "python",
   "pygments_lexer": "ipython3",
   "version": "3.7.4"
  }
 },
 "nbformat": 4,
 "nbformat_minor": 4
}
