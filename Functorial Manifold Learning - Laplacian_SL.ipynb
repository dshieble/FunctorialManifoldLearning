{
 "cells": [
  {
   "cell_type": "markdown",
   "metadata": {},
   "source": [
    "Manifold Learning:\n",
    "https://www.overleaf.com/project/5eac0a8fc087300001aa3218\n",
    "\n",
    "Available Gensim Embeddings https://github.com/RaRe-Technologies/gensim-data#datasets"
   ]
  },
  {
   "cell_type": "code",
   "execution_count": 1,
   "metadata": {},
   "outputs": [
    {
     "name": "stderr",
     "output_type": "stream",
     "text": [
      "unable to import 'smart_open.gcs', disabling that module\n"
     ]
    }
   ],
   "source": [
    "%matplotlib inline\n",
    "%load_ext autoreload\n",
    "%autoreload 2\n",
    "\n",
    "import matplotlib.pyplot as plt\n",
    "import seaborn as sns\n",
    "sns.set(style='darkgrid')\n",
    "\n",
    "\n",
    "from gensim.models.word2vec import Word2Vec\n",
    "import gensim.downloader as api\n",
    "from tqdm import tqdm\n",
    "import annoy\n",
    "from annoy import AnnoyIndex\n",
    "import random\n",
    "import numpy as np\n",
    "import pandas as pd\n",
    "import seaborn as sns\n",
    "import time\n",
    "from sklearn.cluster import KMeans\n",
    "from collections import defaultdict\n",
    "from sklearn.manifold import spectral_embedding, MDS\n",
    "from scipy.spatial.distance import squareform, pdist, cdist\n",
    "from sklearn.decomposition import PCA\n",
    "\n",
    "import numpy as np\n",
    "from numba import njit, jit\n",
    "from numba import types\n",
    "from numba.typed import Dict\n",
    "from scipy.cluster.hierarchy import linkage\n",
    "from matplotlib.colors import BASE_COLORS\n",
    "from helpers import mds, write_embedding_to_text_file, write_embedding_to_two_text_files, is_numeric\n",
    "\n",
    "sns.reset_defaults()\n",
    "sns.set_context(context='talk',font_scale=0.7)\n",
    "\n",
    "%matplotlib inline\n",
    "\n"
   ]
  },
  {
   "cell_type": "code",
   "execution_count": 2,
   "metadata": {},
   "outputs": [],
   "source": [
    "# Word2Vec Dataset\n",
    "from word_embedding_helpers import plot_reduced_embeddings, get_data\n",
    "entity_ids, raw_embeddings, metric = get_data(num_embeddings=20000)\n",
    "\n",
    "condensed_raw_distance_matrix = pdist(raw_embeddings, metric=metric)\n"
   ]
  },
  {
   "cell_type": "code",
   "execution_count": 3,
   "metadata": {},
   "outputs": [],
   "source": [
    "# # DNA Simulation Dataset\n",
    "\n",
    "# def mutate_sequence(sequence):\n",
    "#     new_sequence = [s for s in sequence]\n",
    "#     ix = np.random.randint(0, len(new_sequence))\n",
    "#     new_sequence[ix] = np.random.choice([x for x in [\"A\", \"C\", \"G\", \"T\"] if not x == sequence[ix]])\n",
    "#     return new_sequence\n",
    "\n",
    "# def generate_mutation_chain(base_sequence, num_mutations):\n",
    "#     current_sequence = base_sequence\n",
    "#     chain = []\n",
    "#     for i in range(num_mutations):\n",
    "#         current_sequence = mutate_sequence(current_sequence)\n",
    "#         chain.append(current_sequence)\n",
    "#     return chain\n",
    "\n",
    "# def sequence_distance(s1, s2):\n",
    "#     return np.sum(s1 != s2) / len(s1)\n",
    "\n",
    "# def plot_reduced_embeddings(entity_ids, reduced_embeddings):    \n",
    "#     plt.figure(figsize=(10,10))\n",
    "#     entity_id_to_color = {unique_entity_id: np.random.random(3) for unique_entity_id in set(entity_ids)}\n",
    "#     plt.scatter(\n",
    "#         x=reduced_embeddings[:,0],\n",
    "#         y=reduced_embeddings[:,1],\n",
    "#         c=[entity_id_to_color[i] for i in entity_ids]\n",
    "#     )\n",
    "#     mins = np.min(reduced_embeddings, axis=0)\n",
    "#     maxs = np.max(reduced_embeddings, axis=0)\n",
    "#     plt.xlim((mins[0] - abs(mins[0]*0.5), maxs[0] + abs(maxs[0]*0.5)))\n",
    "#     plt.ylim((mins[1] - abs(mins[1]*0.5), maxs[1] + abs(maxs[1]*0.5)))\n",
    "\n",
    "# num_mutations = 100\n",
    "# base_sequences = np.random.choice([\"A\", \"C\", \"G\", \"T\"], (3, 50000))\n",
    "\n",
    "# entity_ids = []\n",
    "# raw_embeddings = []\n",
    "# for i, b in enumerate(base_sequences):\n",
    "#     entity_ids += [i for j in range(num_mutations)]\n",
    "#     raw_embeddings += generate_mutation_chain(base_sequence=b, num_mutations=num_mutations)\n",
    "\n",
    "# metric = sequence_distance\n",
    "\n",
    "# for i, ei in enumerate(raw_embeddings):\n",
    "#     for j, ej in enumerate(raw_embeddings):\n",
    "#         if i != j:\n",
    "#             assert ei != ej\n",
    "# condensed_raw_distance_matrix = pdist(raw_embeddings, metric=metric)\n"
   ]
  },
  {
   "cell_type": "code",
   "execution_count": null,
   "metadata": {
    "scrolled": false
   },
   "outputs": [],
   "source": [
    "# Plot the spectral embeddings\n",
    "def maximal_linkage_lap_from_condensed(condensed_distance_matrix):\n",
    "    distance_matrix = squareform(condensed_distance_matrix)\n",
    "    simplex_strength_matrix = np.exp(-distance_matrix)\n",
    "    return spectral_embedding(simplex_strength_matrix, n_components=2)\n",
    "#     return mds(simplex_strength_matrix, n_components=2)\n",
    "\n",
    "maximal_linkage_lap_embeddings = maximal_linkage_lap_from_condensed(condensed_raw_distance_matrix)\n",
    "\n",
    "plot_reduced_embeddings(entity_ids=entity_ids, reduced_embeddings=maximal_linkage_lap_embeddings)\n",
    "\n",
    "write_embedding_to_two_text_files(\n",
    "    entity_ids=entity_ids,\n",
    "    embeddings=maximal_linkage_lap_embeddings,\n",
    "    entity_fname=\"/Users/dshiebler/Downloads/maximal_linkage_laplacian_entities\",\n",
    "    embedding_fname=\"/Users/dshiebler/Downloads/maximal_linkage_laplacian_embeddings\")\n",
    "\n"
   ]
  },
  {
   "cell_type": "code",
   "execution_count": null,
   "metadata": {},
   "outputs": [],
   "source": []
  },
  {
   "cell_type": "code",
   "execution_count": 9,
   "metadata": {},
   "outputs": [
    {
     "name": "stdout",
     "output_type": "stream",
     "text": [
      "Single linkage...\n",
      "Distance matrix...\n",
      "Simplex strength matrix...\n"
     ]
    }
   ],
   "source": [
    "\n",
    "@jit(nopython=True)\n",
    "def _build_distance_matrix_from_linked_helper(distance_matrix, cluster_tree, int_array=types.int64[:]):\n",
    "    num_points = len(cluster_tree) + 1\n",
    "    cluster_indices_to_points = Dict.empty(\n",
    "        key_type=types.int64,\n",
    "        value_type=int_array\n",
    "    )\n",
    "    for i in np.arange(num_points, dtype=np.int64):\n",
    "        cluster_indices_to_points[i] = np.array([i], dtype=np.int64)\n",
    "    for i in np.arange(num_points, num_points + len(cluster_tree), dtype=np.int64):\n",
    "        cluster_indices_to_points[i] = np.array([np.int64(x) for x in range(0)])\n",
    "\n",
    "    for i in range(len(cluster_tree)):\n",
    "        l = cluster_tree[i]\n",
    "        left_cluster = cluster_indices_to_points[int(l[0])]\n",
    "        right_cluster = cluster_indices_to_points[int(l[1])]\n",
    "\n",
    "        cluster_indices_to_points[num_points + i] = np.zeros(len(left_cluster) + len(right_cluster), dtype=np.int64)\n",
    "        for il in range(len(left_cluster)):\n",
    "            cluster_indices_to_points[num_points + i][il] = left_cluster[il]\n",
    "        for ir in range(len(right_cluster)):\n",
    "            cluster_indices_to_points[num_points + i][len(left_cluster) + ir] = right_cluster[ir]\n",
    "\n",
    "        for left_point in left_cluster:\n",
    "            for right_point in right_cluster:\n",
    "                distance_matrix[left_point][right_point] = l[2]\n",
    "                distance_matrix[right_point][left_point] = l[2]\n",
    "    return distance_matrix, cluster_indices_to_points\n",
    "\n",
    "def build_distance_matrix_from_linked(cluster_tree):\n",
    "    distance_matrix = np.zeros((len(cluster_tree) + 1, len(cluster_tree) + 1))\n",
    "    return _build_distance_matrix_from_linked_helper(distance_matrix=distance_matrix, cluster_tree=cluster_tree)\n",
    "\n",
    "\n",
    "# Perform single linkage\n",
    "print(\"Single linkage...\")\n",
    "cluster_tree = linkage(condensed_raw_distance_matrix)\n",
    "print(\"Distance matrix...\")\n",
    "single_linkage_distance_matrix, _ = build_distance_matrix_from_linked(cluster_tree=cluster_tree)\n",
    "print(\"Simplex strength matrix...\")\n",
    "single_linkage_simplex_strength_matrix = np.exp(-single_linkage_distance_matrix)\n",
    "\n"
   ]
  },
  {
   "cell_type": "code",
   "execution_count": 10,
   "metadata": {},
   "outputs": [
    {
     "name": "stderr",
     "output_type": "stream",
     "text": [
      "/usr/local/lib/python3.7/site-packages/sklearn/manifold/_mds.py:419: UserWarning: The MDS API has changed. ``fit`` now constructs an dissimilarity matrix from data. To use a custom dissimilarity matrix, set ``dissimilarity='precomputed'``.\n",
      "  warnings.warn(\"The MDS API has changed. ``fit`` now constructs an\"\n"
     ]
    },
    {
     "data": {
      "image/png": "[encoded data removed]",
      "text/plain": [
       "<Figure size 720x720 with 1 Axes>"
      ]
     },
     "metadata": {
      "needs_background": "light"
     },
     "output_type": "display_data"
    }
   ],
   "source": [
    "# Plot the spectral embeddings\n",
    "# single_linkage_lap_embeddings = spectral_embedding(single_linkage_simplex_strength_matrix, n_components=2)\n",
    "single_linkage_lap_embeddings = mds(single_linkage_simplex_strength_matrix, n_components=2)\n",
    "\n",
    "plot_reduced_embeddings(entity_ids=entity_ids, reduced_embeddings=single_linkage_lap_embeddings)\n",
    "\n",
    "\n",
    "write_embedding_to_two_text_files(\n",
    "    entity_ids=entity_ids[:len(single_linkage_lap_embeddings)],\n",
    "    embeddings=single_linkage_lap_embeddings,\n",
    "    entity_fname=\"/Users/dshiebler/Downloads/laplacian_single_linkage_entities\",\n",
    "    embedding_fname=\"/Users/dshiebler/Downloads/laplacian_single_linkage_embeddings\")\n",
    "\n"
   ]
  },
  {
   "cell_type": "code",
   "execution_count": null,
   "metadata": {},
   "outputs": [],
   "source": []
  }
 ],
 "metadata": {
  "kernelspec": {
   "display_name": "Python 3",
   "language": "python",
   "name": "python3"
  },
  "language_info": {
   "codemirror_mode": {
    "name": "ipython",
    "version": 3
   },
   "file_extension": ".py",
   "mimetype": "text/x-python",
   "name": "python",
   "nbconvert_exporter": "python",
   "pygments_lexer": "ipython3",
   "version": "3.7.4"
  }
 },
 "nbformat": 4,
 "nbformat_minor": 4
}
