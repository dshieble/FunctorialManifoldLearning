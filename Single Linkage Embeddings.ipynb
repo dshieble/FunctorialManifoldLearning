{
 "cells": [
  {
   "cell_type": "code",
   "execution_count": null,
   "metadata": {},
   "outputs": [],
   "source": [
    "%matplotlib inline\n",
    "%load_ext autoreload\n",
    "%autoreload 2\n",
    "\n",
    "import matplotlib.pyplot as plt\n",
    "import seaborn as sns\n",
    "sns.set(style='darkgrid')\n",
    "\n",
    "from gensim.models.word2vec import Word2Vec\n",
    "import gensim.downloader as api\n",
    "from tqdm import tqdm\n",
    "import annoy\n",
    "import random\n",
    "import numpy as np\n",
    "import pandas as pd\n",
    "import seaborn as sns\n",
    "import time\n",
    "from collections import defaultdict\n",
    "from sklearn.manifold import spectral_embedding, MDS\n",
    "from scipy.spatial.distance import squareform, pdist, cdist\n",
    "from sklearn.decomposition import PCA\n",
    "\n",
    "import numpy as np\n",
    "from numba import njit, jit\n",
    "from numba import types\n",
    "from numba.typed import Dict\n",
    "from scipy.cluster.hierarchy import linkage\n",
    "from matplotlib.colors import BASE_COLORS\n",
    "from helpers import mds, write_embedding_to_text_file, write_embedding_to_two_text_files, is_numeric\n",
    "from sklearn.neighbors import NearestNeighbors\n",
    "from sequence import *\n",
    "from linkage_based_embeddings import *\n",
    "\n",
    "def plot_reduced_embeddings(entity_ids, reduced_embeddings):    \n",
    "    entity_id_to_color = {unique_entity_id: np.random.random(3) for unique_entity_id in set(entity_ids)}\n",
    "    plt.scatter(\n",
    "        x=reduced_embeddings[:,0],\n",
    "        y=reduced_embeddings[:,1],\n",
    "        c=[entity_id_to_color[i] for i in entity_ids]\n",
    "    )\n",
    "    mins = np.min(reduced_embeddings, axis=0)\n",
    "    maxs = np.max(reduced_embeddings, axis=0)\n",
    "    plt.xlim((mins[0] - abs(mins[0]*0.5), maxs[0] + abs(maxs[0]*0.5)))\n",
    "    plt.ylim((mins[1] - abs(mins[1]*0.5), maxs[1] + abs(maxs[1]*0.5)))\n"
   ]
  },
  {
   "cell_type": "code",
   "execution_count": null,
   "metadata": {
    "scrolled": true
   },
   "outputs": [],
   "source": [
    "# DNA Simulation Dataset\n",
    "def generate_condensed_raw_distance_matrix(num_mutations, num_modifications, num_starts, sequence_length):\n",
    "    base_sequence_list = []\n",
    "    base = np.random.choice([\"A\", \"C\", \"G\", \"T\"], sequence_length)\n",
    "    for i in tqdm(range(num_starts)):\n",
    "        modified_sequence = [s for s in base]\n",
    "        for i in range(num_modifications):\n",
    "            modified_sequence = mutate_sequence(modified_sequence)\n",
    "        base_sequence_list.append(np.array(modified_sequence)[None,...])\n",
    "    base_sequences = np.vstack(base_sequence_list)\n",
    "\n",
    "    entity_ids = []\n",
    "    raw_embeddings = []\n",
    "    for i, b in tqdm(enumerate(base_sequences)):\n",
    "        entity_ids += [i for j in range(num_mutations)]\n",
    "        raw_embeddings += generate_mutation_chain(base_sequence=b, num_mutations=num_mutations)\n",
    "\n",
    "    metric = sequence_distance\n",
    "    return entity_ids, pdist(raw_embeddings, metric=metric)\n",
    "\n",
    "num_modifications = 100\n",
    "sequence_length = 1000\n"
   ]
  },
  {
   "cell_type": "code",
   "execution_count": null,
   "metadata": {
    "scrolled": true
   },
   "outputs": [],
   "source": [
    "all_results = []\n",
    "for drop_first in [False]:\n",
    "    for n_components in [2, 5]:\n",
    "        for num_starts in [100, 200]:\n",
    "            for num_mutations in [10, 20]: \n",
    "                start = time.time()\n",
    "                entity_ids, condensed_raw_distance_matrix = generate_condensed_raw_distance_matrix(\n",
    "                    num_mutations=num_mutations,\n",
    "                    num_modifications=num_modifications,\n",
    "                    num_starts=num_starts,\n",
    "                    sequence_length=sequence_length)\n",
    "\n",
    "                results = {}\n",
    "                results[\"entity_ids\"] = entity_ids\n",
    "                results[\"n_components\"] = n_components\n",
    "                results[\"num_starts\"] = num_starts\n",
    "                results[\"num_mutations\"] = num_mutations\n",
    "\n",
    "                results[\"maximal_linkage_mds_embeddings\"] = maximal_linkage_mds_from_condensed(\n",
    "                    condensed_raw_distance_matrix, n_components=n_components)\n",
    "                results[\"maximal_linkage_mds_from_condensed\"] = evaluate_embeddings(\n",
    "                    embedding_sequence=results[\"maximal_linkage_mds_embeddings\"], num_mutations=num_mutations)\n",
    "\n",
    "                results[\"single_linkage_mds_embeddings\"] = single_linkage_mds_from_condensed(\n",
    "                    condensed_raw_distance_matrix, n_components=n_components)\n",
    "                results[\"single_linkage_mds_from_condensed\"] = evaluate_embeddings(\n",
    "                    embedding_sequence=results[\"single_linkage_mds_embeddings\"], num_mutations=num_mutations)\n",
    "\n",
    "                print(\"============\")\n",
    "                for k, v in results.items():\n",
    "                    if \"embeddings\" not in k and \"entity_ids\" not in k:\n",
    "                        print(k, v)\n",
    "                all_results.append(results)\n",
    "                print(time.time() - start)\n"
   ]
  },
  {
   "cell_type": "code",
   "execution_count": null,
   "metadata": {
    "scrolled": false
   },
   "outputs": [],
   "source": [
    "result = all_results[2]\n",
    "\n",
    "plt.figure(figsize=(15, 8))\n",
    "plt.subplot(1,2,1)\n",
    "plt.title(\"Metric Multidimensional Scaling with Maximal Linkage\")\n",
    "plot_reduced_embeddings(result[\"entity_ids\"], result['maximal_linkage_mds_embeddings'])\n",
    "plt.xlabel(\"X Component of 2-Dimensional Embedding\")\n",
    "plt.ylabel(\"Y Component of 2-Dimensional Embedding\")\n",
    "\n",
    "\n",
    "plt.subplot(1,2,2)\n",
    "plt.title(\"Metric Multidimensional Scaling with Single Linkage\")\n",
    "plot_reduced_embeddings(result[\"entity_ids\"], result['single_linkage_mds_embeddings'])\n",
    "plt.xlabel(\"X Component of 2-Dimensional Embedding\")\n",
    "plt.ylabel(\"Y Component of 2-Dimensional Embedding\")\n",
    "\n"
   ]
  },
  {
   "cell_type": "code",
   "execution_count": null,
   "metadata": {},
   "outputs": [],
   "source": []
  },
  {
   "cell_type": "code",
   "execution_count": null,
   "metadata": {},
   "outputs": [],
   "source": []
  },
  {
   "cell_type": "code",
   "execution_count": null,
   "metadata": {},
   "outputs": [],
   "source": []
  }
 ],
 "metadata": {
  "kernelspec": {
   "display_name": "Python 3",
   "language": "python",
   "name": "python3"
  },
  "language_info": {
   "codemirror_mode": {
    "name": "ipython",
    "version": 3
   },
   "file_extension": ".py",
   "mimetype": "text/x-python",
   "name": "python",
   "nbconvert_exporter": "python",
   "pygments_lexer": "ipython3",
   "version": "3.6.6"
  },
  "toc": {
   "base_numbering": 1,
   "nav_menu": {},
   "number_sections": false,
   "sideBar": false,
   "skip_h1_title": false,
   "title_cell": "Table of Contents",
   "title_sidebar": "Contents",
   "toc_cell": false,
   "toc_position": {},
   "toc_section_display": false,
   "toc_window_display": false
  }
 },
 "nbformat": 4,
 "nbformat_minor": 4
}
